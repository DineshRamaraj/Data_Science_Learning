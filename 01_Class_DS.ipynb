{
  "nbformat": 4,
  "nbformat_minor": 0,
  "metadata": {
    "colab": {
      "provenance": [],
      "authorship_tag": "ABX9TyPvu27noWZDsmVjvgJQTMiO",
      "include_colab_link": true
    },
    "kernelspec": {
      "name": "python3",
      "display_name": "Python 3"
    },
    "language_info": {
      "name": "python"
    }
  },
  "cells": [
    {
      "cell_type": "markdown",
      "metadata": {
        "id": "view-in-github",
        "colab_type": "text"
      },
      "source": [
        "<a href=\"https://colab.research.google.com/github/DineshRamaraj/Data_Science_Learning/blob/main/01_Class_DS.ipynb\" target=\"_parent\"><img src=\"https://colab.research.google.com/assets/colab-badge.svg\" alt=\"Open In Colab\"/></a>"
      ]
    },
    {
      "cell_type": "markdown",
      "source": [
        "# Target\n",
        "1. Programming Language\n",
        "2. What is Python?\n",
        "3. Where else we use python?\n",
        "4. Comments\n",
        "5. Variable\n",
        "6. Rules of writting the name of the variable\n",
        "7. Data Types\n",
        "      1. Numberic Data\n",
        "      2. Text Data\n",
        "      3. Boolean Data\n",
        "8. Type Casting\n",
        "9. Advanced Data types\n",
        "      1."
      ],
      "metadata": {
        "id": "yg9WIqNomT-m"
      }
    }
  ]
}